{
 "cells": [
  {
   "cell_type": "markdown",
   "metadata": {},
   "source": [
    "# sparkify 会员用户流失预测\n",
    "## 项目概览\n",
    "　　sparkify是一个类似于网易云音乐、QQ音乐等提供数字音乐服务的平台。用户类型有带广告的免费用户、会员用户。 会员用户每月支付固定费用免费听歌。任何时候，用户可以自己升级为会员用户或者降级为免费用户。用户的每次操作，例如播放歌曲、点赞、登录、登出、升级、降级等都会产生数据，这些数据包含了能让用户满意并帮助sparkify业务蓬勃发展的关键信息。<br>\n",
    "　　数据集来源于Udacity，完整的数据集大小为12GB。本项目基于完整数据集的一个子集，大小为231MB，预测哪些用户从会员降级为免费，或者直接取消服务了。如果在用户离开之前，可以精确识别到这些用户，sparkify可以通过给用户打折或者其他激励方式留住用户，这样就可以挽救数百位的营业额。[数据子集链接](https://video.udacity-data.com/topher/2018/December/5c1d6681_medium-sparkify-event-data/medium-sparkify-event-data.json) <br>\n",
    "　　用户路径：\n",
    "  + Register -> Submit Registration ->成为free用户，可以听歌、点赞、加好友等，带广告\n",
    "  + free用户 -> Upgrade -> Submit Upgrade -> 成为paid用户，享受尊贵服务，无广告\n",
    "  + paid用户 -> Downgrade -> Submit Downgrade -> 成为free用户\n",
    "  + free, paid用户 -> Cancel -> Cancellation Confirmation -> 注销账户"
   ]
  },
  {
   "cell_type": "markdown",
   "metadata": {},
   "source": [
    "## 解决方案\n",
    "　　项目目标是要在用户离开之前，精确识别这些用户，通过打折或者其他激励措施留着用户，挽救营业额。通过历史数据，预测用户继续付费使用sparkify，还是流失，这是二元分类问题。具体解决思路如下：\n",
    "+ **paid用户才会为sparkify带来营业额，所以首先需要过滤掉免费用户**\n",
    "+ 根据用户路径，定义执行Submit Downgrade或者Cancellation Confirmation操作的用户为流失用户\n",
    "+ 数据清理，处理数据集中数据缺失、异常值和数据格式问题\n",
    "+ 数据集探索，对比会员用户与流失用户的行为，找出用户流失的潜在规律\n",
    "+ 建模，使用机器学习中的分类模型，如SVM、决策树等，训练数据\n",
    "+ 预测，使用训练好的模型，预测用户"
   ]
  },
  {
   "cell_type": "markdown",
   "metadata": {},
   "source": [
    "## 评价指标\n",
    "目标是找到流失用户，通过打折或者其他激励留住这些用户，另外把会员用户误识别为流失用户是有害的，因为打折或者激励会造成不必要的损失。使用F1 score作为评价指标，同时考虑精确率和召回率\n",
    "\n",
    "$$ F1 = 2* \\frac{precision \\cdot recall}{precision + recall} $$"
   ]
  },
  {
   "cell_type": "code",
   "execution_count": 152,
   "metadata": {},
   "outputs": [],
   "source": [
    "# 导入所需库\n",
    "from pyspark.sql import SparkSession\n",
    "from pyspark.sql.functions import udf, isnull, col, round, when, first\n",
    "from pyspark.sql.functions import hour, minute, second, year, month, dayofmonth, to_timestamp, to_date, datediff, date_sub\n",
    "from pyspark.sql.types import StringType, IntegerType, LongType, DateType\n",
    "from pyspark.ml import Pipeline\n",
    "from pyspark.ml.classification import DecisionTreeClassifier, LogisticRegression, LinearSVC\n",
    "from pyspark.ml.feature import VectorAssembler, MinMaxScaler, Normalizer\n",
    "from pyspark.ml.evaluation import MulticlassClassificationEvaluator\n",
    "from pyspark.ml.tuning import ParamGridBuilder, CrossValidator\n",
    "\n",
    "import numpy as np\n",
    "import pandas as pd\n",
    "import matplotlib.pyplot as plt\n",
    "import matplotlib.patches as mpatches\n",
    "import seaborn as sns\n",
    "%matplotlib inline\n",
    "\n",
    "import re\n",
    "import time"
   ]
  },
  {
   "cell_type": "markdown",
   "metadata": {},
   "source": [
    "## 加载数据"
   ]
  },
  {
   "cell_type": "code",
   "execution_count": 2,
   "metadata": {},
   "outputs": [],
   "source": [
    "# create a Spark session\n",
    "spark = SparkSession \\\n",
    "    .builder \\\n",
    "    .appName(\"Sparkify\") \\\n",
    "    .getOrCreate()\n",
    "data = spark.read.json('medium-sparkify-event-data.json')"
   ]
  },
  {
   "cell_type": "markdown",
   "metadata": {},
   "source": [
    "## 数据集清理"
   ]
  },
  {
   "cell_type": "code",
   "execution_count": 216,
   "metadata": {},
   "outputs": [
    {
     "name": "stdout",
     "output_type": "stream",
     "text": [
      "root\n",
      " |-- artist: string (nullable = true)\n",
      " |-- auth: string (nullable = true)\n",
      " |-- firstName: string (nullable = true)\n",
      " |-- gender: string (nullable = true)\n",
      " |-- itemInSession: long (nullable = true)\n",
      " |-- lastName: string (nullable = true)\n",
      " |-- length: double (nullable = true)\n",
      " |-- level: string (nullable = true)\n",
      " |-- location: string (nullable = true)\n",
      " |-- method: string (nullable = true)\n",
      " |-- page: string (nullable = true)\n",
      " |-- registration: long (nullable = true)\n",
      " |-- sessionId: long (nullable = true)\n",
      " |-- song: string (nullable = true)\n",
      " |-- status: long (nullable = true)\n",
      " |-- ts: long (nullable = true)\n",
      " |-- userAgent: string (nullable = true)\n",
      " |-- userId: string (nullable = true)\n",
      "\n"
     ]
    }
   ],
   "source": [
    "# 查看数据集字段信息\n",
    "data.printSchema()"
   ]
  },
  {
   "cell_type": "code",
   "execution_count": 4,
   "metadata": {},
   "outputs": [
    {
     "data": {
      "text/plain": [
       "543705"
      ]
     },
     "execution_count": 4,
     "metadata": {},
     "output_type": "execute_result"
    }
   ],
   "source": [
    "# 查看数据集大小\n",
    "data.count()"
   ]
  },
  {
   "cell_type": "code",
   "execution_count": 5,
   "metadata": {
    "scrolled": true
   },
   "outputs": [
    {
     "data": {
      "text/plain": [
       "[Row(summary='count', artist='432877', auth='543705', firstName='528005', gender='528005', itemInSession='543705', lastName='528005', length='432877', level='543705', location='528005', method='543705', page='543705', registration='528005', sessionId='543705', song='432877', status='543705', ts='543705', userAgent='528005', userId='543705'),\n",
       " Row(summary='mean', artist='527.5289537712895', auth=None, firstName=None, gender=None, itemInSession='107.30629109535502', lastName=None, length='248.66459278007807', level=None, location=None, method=None, page=None, registration='1.5355234148628062E12', sessionId='2040.8143533717732', song='Infinity', status='210.01829116892432', ts='1.540964541209808E12', userAgent=None, userId='60268.42669103512'),\n",
       " Row(summary='stddev', artist='966.1072451772758', auth=None, firstName=None, gender=None, itemInSession='116.72350849187941', lastName=None, length='98.41266955052018', level=None, location=None, method=None, page=None, registration='3.0787254929942865E9', sessionId='1434.3389310782754', song='NaN', status='31.47191902156764', ts='1.4820571448945475E9', userAgent=None, userId='109898.82324176644'),\n",
       " Row(summary='min', artist='!!!', auth='Cancelled', firstName='Aaliyah', gender='F', itemInSession='0', lastName='Abbott', length='0.78322', level='free', location='Akron, OH', method='GET', page='About', registration='1509854193000', sessionId='1', song='\\x1cÃ\\x83Â\\x89g Ã\\x83Â\\x81tti GrÃ\\x83Â¡a Ã\\x83Â\\x86sku', status='200', ts='1538352011000', userAgent='\"Mozilla/5.0 (Macintosh; Intel Mac OS X 10_10) AppleWebKit/600.1.3 (KHTML, like Gecko) Version/8.0 Safari/600.1.3\"', userId=''),\n",
       " Row(summary='max', artist='Ã\\x83Â\\x93lafur Arnalds', auth='Logged Out', firstName='Zyonna', gender='M', itemInSession='1005', lastName='Wright', length='3024.66567', level='paid', location='York-Hanover, PA', method='PUT', page='Upgrade', registration='1543073874000', sessionId='4808', song='Ã\\x83Â¾etta Gerist Ã\\x83Â¡ Bestu BÃ\\x83Â¦jum', status='404', ts='1543622466000', userAgent='Mozilla/5.0 (compatible; MSIE 9.0; Windows NT 6.1; WOW64; Trident/5.0)', userId='99')]"
      ]
     },
     "execution_count": 5,
     "metadata": {},
     "output_type": "execute_result"
    }
   ],
   "source": [
    "# 概览\n",
    "data.describe().collect()"
   ]
  },
  {
   "cell_type": "code",
   "execution_count": 6,
   "metadata": {},
   "outputs": [
    {
     "data": {
      "text/plain": [
       "15700"
      ]
     },
     "execution_count": 6,
     "metadata": {},
     "output_type": "execute_result"
    }
   ],
   "source": [
    "# 统计userId为空的行\n",
    "data.filter(data.userId == '').count()"
   ]
  },
  {
   "cell_type": "markdown",
   "metadata": {},
   "source": [
    "**userId有15700行空值，同时与userId相关的firstName, lastName, gender, registration, userAgent也为空值。因为需要对特定的用户做预测，所以需要处理userId为空的行**"
   ]
  },
  {
   "cell_type": "code",
   "execution_count": 7,
   "metadata": {},
   "outputs": [
    {
     "data": {
      "text/plain": [
       "110828"
      ]
     },
     "execution_count": 7,
     "metadata": {},
     "output_type": "execute_result"
    }
   ],
   "source": [
    "# 统计artist, song, length同时为空的行数\n",
    "data.filter(isnull('artist') & isnull('song') & isnull('length')).count()"
   ]
  },
  {
   "cell_type": "code",
   "execution_count": 8,
   "metadata": {},
   "outputs": [
    {
     "name": "stdout",
     "output_type": "stream",
     "text": [
      "+------+----------+---------+------+-------------+--------+------+-----+--------------------+------+------+-------------+---------+----+------+-------------+--------------------+------+\n",
      "|artist|      auth|firstName|gender|itemInSession|lastName|length|level|            location|method|  page| registration|sessionId|song|status|           ts|           userAgent|userId|\n",
      "+------+----------+---------+------+-------------+--------+------+-----+--------------------+------+------+-------------+---------+----+------+-------------+--------------------+------+\n",
      "|  null| Logged In| Maverick|     M|          185|Santiago|  null| paid|Orlando-Kissimmee...|   PUT|Logout|1535953455000|      178|null|   307|1538352119000|\"Mozilla/5.0 (Mac...|   179|\n",
      "|  null|Logged Out|     null|  null|          186|    null|  null| paid|                null|   GET|  Home|         null|      178|null|   200|1538352148000|                null|      |\n",
      "|  null|Logged Out|     null|  null|          187|    null|  null| paid|                null|   GET|  Home|         null|      178|null|   200|1538352151000|                null|      |\n",
      "|  null|Logged Out|     null|  null|          188|    null|  null| paid|                null|   GET|  Home|         null|      178|null|   200|1538352168000|                null|      |\n",
      "|  null|Logged Out|     null|  null|          189|    null|  null| paid|                null|   PUT| Login|         null|      178|null|   307|1538352169000|                null|      |\n",
      "+------+----------+---------+------+-------------+--------+------+-----+--------------------+------+------+-------------+---------+----+------+-------------+--------------------+------+\n",
      "only showing top 5 rows\n",
      "\n"
     ]
    }
   ],
   "source": [
    "data.filter(isnull('artist')).show(5)"
   ]
  },
  {
   "cell_type": "markdown",
   "metadata": {},
   "source": [
    "用户访问Login, Logout, Home等页面时，没有听歌，所以歌曲相关信息artist, song, length为空是合理的，无需处理"
   ]
  },
  {
   "cell_type": "code",
   "execution_count": 9,
   "metadata": {},
   "outputs": [
    {
     "data": {
      "text/plain": [
       "[Row(userAgent='\"Mozilla/5.0 (Macintosh; Intel Mac OS X 10_8_5) AppleWebKit/537.36 (KHTML, like Gecko) Chrome/36.0.1985.143 Safari/537.36\"', count=2050),\n",
       " Row(userAgent='\"Mozilla/5.0 (Windows NT 5.1) AppleWebKit/537.36 (KHTML, like Gecko) Chrome/36.0.1985.143 Safari/537.36\"', count=3576),\n",
       " Row(userAgent='Mozilla/5.0 (X11; Ubuntu; Linux i686; rv:31.0) Gecko/20100101 Firefox/31.0', count=1897),\n",
       " Row(userAgent='\"Mozilla/5.0 (Macintosh; Intel Mac OS X 10_9_4) AppleWebKit/537.36 (KHTML, like Gecko) Chrome/36.0.1985.125 Safari/537.36\"', count=46082),\n",
       " Row(userAgent='\"Mozilla/5.0 (Macintosh; Intel Mac OS X 10_9_4) AppleWebKit/537.36 (KHTML, like Gecko) Chrome/35.0.1916.153 Safari/537.36\"', count=2416),\n",
       " Row(userAgent='Mozilla/5.0 (Macintosh; Intel Mac OS X 10.7; rv:31.0) Gecko/20100101 Firefox/31.0', count=2034),\n",
       " Row(userAgent='Mozilla/5.0 (Windows NT 6.1; WOW64; rv:30.0) Gecko/20100101 Firefox/30.0', count=9735),\n",
       " Row(userAgent='Mozilla/5.0 (Windows NT 6.3; WOW64; rv:31.0) Gecko/20100101 Firefox/31.0', count=12874),\n",
       " Row(userAgent='Mozilla/5.0 (compatible; MSIE 9.0; Windows NT 6.1; WOW64; Trident/5.0)', count=10301),\n",
       " Row(userAgent='\"Mozilla/5.0 (Windows NT 6.3; WOW64) AppleWebKit/537.36 (KHTML, like Gecko) Chrome/36.0.1985.143 Safari/537.36\"', count=14350),\n",
       " Row(userAgent='Mozilla/5.0 (Macintosh; Intel Mac OS X 10.9; rv:31.0) Gecko/20100101 Firefox/31.0', count=16137),\n",
       " Row(userAgent='\"Mozilla/5.0 (Macintosh; Intel Mac OS X 10_8_5) AppleWebKit/537.77.4 (KHTML, like Gecko) Version/6.1.5 Safari/537.77.4\"', count=5711),\n",
       " Row(userAgent='Mozilla/5.0 (Windows NT 5.1; rv:31.0) Gecko/20100101 Firefox/31.0', count=1123),\n",
       " Row(userAgent='\"Mozilla/5.0 (Windows NT 5.1) AppleWebKit/537.36 (KHTML, like Gecko) Chrome/36.0.1985.125 Safari/537.36\"', count=1982),\n",
       " Row(userAgent=None, count=15700),\n",
       " Row(userAgent='\"Mozilla/5.0 (iPhone; CPU iPhone OS 7_1_1 like Mac OS X) AppleWebKit/537.51.2 (KHTML, like Gecko) Version/7.0 Mobile/11D201 Safari/9537.53\"', count=1803),\n",
       " Row(userAgent='\"Mozilla/5.0 (Windows NT 6.1; WOW64) AppleWebKit/537.36 (KHTML, like Gecko) Chrome/36.0.1985.125 Safari/537.36\"', count=31702),\n",
       " Row(userAgent='Mozilla/5.0 (Windows NT 6.1; WOW64; rv:31.0) Gecko/20100101 Firefox/31.0', count=39456),\n",
       " Row(userAgent='\"Mozilla/5.0 (Macintosh; Intel Mac OS X 10_9_3) AppleWebKit/537.36 (KHTML, like Gecko) Chrome/36.0.1985.143 Safari/537.36\"', count=896),\n",
       " Row(userAgent='Mozilla/5.0 (Windows NT 6.3; WOW64; Trident/7.0; rv:11.0) like Gecko', count=5988),\n",
       " Row(userAgent='Mozilla/5.0 (Macintosh; Intel Mac OS X 10.9; rv:30.0) Gecko/20100101 Firefox/30.0', count=447),\n",
       " Row(userAgent='Mozilla/5.0 (compatible; MSIE 9.0; Windows NT 6.1; Trident/5.0)', count=406),\n",
       " Row(userAgent='Mozilla/5.0 (compatible; MSIE 10.0; Windows NT 6.1; WOW64; Trident/6.0)', count=6947),\n",
       " Row(userAgent='\"Mozilla/5.0 (Windows NT 6.3; WOW64) AppleWebKit/537.36 (KHTML, like Gecko) Chrome/37.0.2062.94 Safari/537.36\"', count=6184),\n",
       " Row(userAgent='\"Mozilla/5.0 (Macintosh; Intel Mac OS X 10_8_5) AppleWebKit/537.36 (KHTML, like Gecko) Chrome/37.0.2062.94 Safari/537.36\"', count=525),\n",
       " Row(userAgent='\"Mozilla/5.0 (Macintosh; Intel Mac OS X 10_9_2) AppleWebKit/537.75.14 (KHTML, like Gecko) Version/7.0.3 Safari/537.75.14\"', count=245),\n",
       " Row(userAgent='\"Mozilla/5.0 (Windows NT 6.1; WOW64) AppleWebKit/537.36 (KHTML, like Gecko) Chrome/37.0.2062.103 Safari/537.36\"', count=7301),\n",
       " Row(userAgent='\"Mozilla/5.0 (Windows NT 6.2; WOW64) AppleWebKit/537.36 (KHTML, like Gecko) Chrome/36.0.1985.125 Safari/537.36\"', count=7925),\n",
       " Row(userAgent='\"Mozilla/5.0 (Macintosh; Intel Mac OS X 10_10_0) AppleWebKit/537.36 (KHTML, like Gecko) Chrome/37.0.2062.94 Safari/537.36\"', count=3793),\n",
       " Row(userAgent='\"Mozilla/5.0 (iPad; CPU OS 7_1_2 like Mac OS X) AppleWebKit/537.51.2 (KHTML, like Gecko) Version/7.0 Mobile/11D257 Safari/9537.53\"', count=14370),\n",
       " Row(userAgent='\"Mozilla/5.0 (Macintosh; Intel Mac OS X 10_6_8) AppleWebKit/537.36 (KHTML, like Gecko) Chrome/36.0.1985.143 Safari/537.36\"', count=1984),\n",
       " Row(userAgent='\"Mozilla/5.0 (Macintosh; Intel Mac OS X 10_9_4) AppleWebKit/537.36 (KHTML, like Gecko) Chrome/36.0.1985.143 Safari/537.36\"', count=24357),\n",
       " Row(userAgent='Mozilla/5.0 (Windows NT 6.0; rv:31.0) Gecko/20100101 Firefox/31.0', count=542),\n",
       " Row(userAgent='\"Mozilla/5.0 (Macintosh; Intel Mac OS X 10_7_5) AppleWebKit/537.36 (KHTML, like Gecko) Chrome/36.0.1985.125 Safari/537.36\"', count=875),\n",
       " Row(userAgent='\"Mozilla/5.0 (Windows NT 6.1) AppleWebKit/537.36 (KHTML, like Gecko) Chrome/36.0.1985.125 Safari/537.36\"', count=4822),\n",
       " Row(userAgent='\"Mozilla/5.0 (Windows NT 6.2; WOW64) AppleWebKit/537.36 (KHTML, like Gecko) Chrome/36.0.1985.143 Safari/537.36\"', count=2850),\n",
       " Row(userAgent='Mozilla/5.0 (Macintosh; Intel Mac OS X 10.6; rv:31.0) Gecko/20100101 Firefox/31.0', count=1343),\n",
       " Row(userAgent='\"Mozilla/5.0 (Macintosh; Intel Mac OS X 10_6_8) AppleWebKit/534.59.10 (KHTML, like Gecko) Version/5.1.9 Safari/534.59.10\"', count=1783),\n",
       " Row(userAgent='\"Mozilla/5.0 (Macintosh; Intel Mac OS X 10_9_3) AppleWebKit/537.76.4 (KHTML, like Gecko) Version/7.0.4 Safari/537.76.4\"', count=1227),\n",
       " Row(userAgent='Mozilla/5.0 (X11; Linux x86_64; rv:31.0) Gecko/20100101 Firefox/31.0', count=2671),\n",
       " Row(userAgent='\"Mozilla/5.0 (Macintosh; Intel Mac OS X 10_9_2) AppleWebKit/537.36 (KHTML, like Gecko) Chrome/37.0.2062.94 Safari/537.36\"', count=4940),\n",
       " Row(userAgent='\"Mozilla/5.0 (Macintosh; Intel Mac OS X 10_9_4) AppleWebKit/537.78.2 (KHTML, like Gecko) Version/7.0.6 Safari/537.78.2\"', count=18384),\n",
       " Row(userAgent='\"Mozilla/5.0 (Macintosh; Intel Mac OS X 10_7_5) AppleWebKit/537.77.4 (KHTML, like Gecko) Version/6.1.5 Safari/537.77.4\"', count=3516),\n",
       " Row(userAgent='\"Mozilla/5.0 (Windows NT 6.1; WOW64) AppleWebKit/537.36 (KHTML, like Gecko) Chrome/35.0.1916.153 Safari/537.36\"', count=2003),\n",
       " Row(userAgent='\"Mozilla/5.0 (Macintosh; Intel Mac OS X 10_10) AppleWebKit/600.1.8 (KHTML, like Gecko) Version/8.0 Safari/600.1.8\"', count=5566),\n",
       " Row(userAgent='\"Mozilla/5.0 (X11; Linux x86_64) AppleWebKit/537.36 (KHTML, like Gecko) Chrome/36.0.1985.143 Safari/537.36\"', count=4679),\n",
       " Row(userAgent='\"Mozilla/5.0 (Windows NT 6.1) AppleWebKit/537.36 (KHTML, like Gecko) Chrome/36.0.1985.143 Safari/537.36\"', count=8087),\n",
       " Row(userAgent='\"Mozilla/5.0 (X11; Linux x86_64) AppleWebKit/537.36 (KHTML, like Gecko) Ubuntu Chromium/34.0.1847.116 Chrome/34.0.1847.116 Safari/537.36\"', count=2296),\n",
       " Row(userAgent='Mozilla/5.0 (X11; Ubuntu; Linux x86_64; rv:31.0) Gecko/20100101 Firefox/31.0', count=6855),\n",
       " Row(userAgent='\"Mozilla/5.0 (iPad; CPU OS 7_1_1 like Mac OS X) AppleWebKit/537.51.2 (KHTML, like Gecko) Version/7.0 Mobile/11D201 Safari/9537.53\"', count=1634),\n",
       " Row(userAgent='\"Mozilla/5.0 (Macintosh; Intel Mac OS X 10_10) AppleWebKit/600.1.3 (KHTML, like Gecko) Version/8.0 Safari/600.1.3\"', count=1800),\n",
       " Row(userAgent='Mozilla/5.0 (Windows NT 6.2; WOW64; rv:31.0) Gecko/20100101 Firefox/31.0', count=7405),\n",
       " Row(userAgent='\"Mozilla/5.0 (Macintosh; Intel Mac OS X 10_9_4) AppleWebKit/537.77.4 (KHTML, like Gecko) Version/7.0.5 Safari/537.77.4\"', count=31653),\n",
       " Row(userAgent='\"Mozilla/5.0 (Windows NT 6.3; WOW64) AppleWebKit/537.36 (KHTML, like Gecko) Chrome/36.0.1985.125 Safari/537.36\"', count=13484),\n",
       " Row(userAgent='Mozilla/5.0 (Windows NT 6.1; WOW64; rv:24.0) Gecko/20100101 Firefox/24.0', count=2072),\n",
       " Row(userAgent='Mozilla/5.0 (Windows NT 6.1; WOW64; rv:32.0) Gecko/20100101 Firefox/32.0', count=801),\n",
       " Row(userAgent='\"Mozilla/5.0 (Macintosh; Intel Mac OS X 10_9_2) AppleWebKit/537.74.9 (KHTML, like Gecko) Version/7.0.2 Safari/537.74.9\"', count=849),\n",
       " Row(userAgent='\"Mozilla/5.0 (iPhone; CPU iPhone OS 7_1_2 like Mac OS X) AppleWebKit/537.51.2 (KHTML, like Gecko) Version/7.0 Mobile/11D257 Safari/9537.53\"', count=10437),\n",
       " Row(userAgent='\"Mozilla/5.0 (X11; Linux x86_64) AppleWebKit/537.36 (KHTML, like Gecko) Ubuntu Chromium/36.0.1985.125 Chrome/36.0.1985.125 Safari/537.36\"', count=2728),\n",
       " Row(userAgent='\"Mozilla/5.0 (X11; Linux x86_64) AppleWebKit/537.36 (KHTML, like Gecko) Chrome/36.0.1985.125 Safari/537.36\"', count=2786),\n",
       " Row(userAgent='\"Mozilla/5.0 (Macintosh; Intel Mac OS X 10_9_2) AppleWebKit/537.36 (KHTML, like Gecko) Chrome/36.0.1985.125 Safari/537.36\"', count=2876),\n",
       " Row(userAgent='\"Mozilla/5.0 (Windows NT 6.1; WOW64) AppleWebKit/537.36 (KHTML, like Gecko) Chrome/37.0.2062.94 Safari/537.36\"', count=10340),\n",
       " Row(userAgent='\"Mozilla/5.0 (X11; Linux x86_64) AppleWebKit/537.36 (KHTML, like Gecko) Chrome/35.0.1916.153 Safari/537.36\"', count=523),\n",
       " Row(userAgent='\"Mozilla/5.0 (Macintosh; Intel Mac OS X 10_9_2) AppleWebKit/537.36 (KHTML, like Gecko) Chrome/36.0.1985.143 Safari/537.36\"', count=825),\n",
       " Row(userAgent='\"Mozilla/5.0 (Macintosh; Intel Mac OS X 10_9_4) AppleWebKit/537.36 (KHTML, like Gecko) Chrome/37.0.2062.94 Safari/537.36\"', count=17518),\n",
       " Row(userAgent='\"Mozilla/5.0 (iPhone; CPU iPhone OS 7_1 like Mac OS X) AppleWebKit/537.51.2 (KHTML, like Gecko) Version/7.0 Mobile/11D167 Safari/9537.53\"', count=2241),\n",
       " Row(userAgent='\"Mozilla/5.0 (Windows NT 6.1; WOW64) AppleWebKit/537.36 (KHTML, like Gecko) Chrome/36.0.1985.143 Safari/537.36\"', count=38551),\n",
       " Row(userAgent='Mozilla/5.0 (Macintosh; Intel Mac OS X 10.8; rv:31.0) Gecko/20100101 Firefox/31.0', count=2227),\n",
       " Row(userAgent='Mozilla/5.0 (compatible; MSIE 10.0; Windows NT 6.2; WOW64; Trident/6.0)', count=4123),\n",
       " Row(userAgent='Mozilla/5.0 (Windows NT 6.1; WOW64; Trident/7.0; rv:11.0) like Gecko', count=10153),\n",
       " Row(userAgent='Mozilla/5.0 (X11; Ubuntu; Linux x86_64; rv:30.0) Gecko/20100101 Firefox/30.0', count=593),\n",
       " Row(userAgent='Mozilla/5.0 (Windows NT 6.1; rv:31.0) Gecko/20100101 Firefox/31.0', count=5350)]"
      ]
     },
     "execution_count": 9,
     "metadata": {},
     "output_type": "execute_result"
    }
   ],
   "source": [
    "# 查看用户使用终端\n",
    "data.groupBy('userAgent').count().collect()"
   ]
  },
  {
   "cell_type": "markdown",
   "metadata": {},
   "source": [
    "用户使用终端信息包括hardware platform, app等信息，字符串很长，不便于分析，重点关注hardware platform， 例如客户用的是Windows, iPhone或者Macintosh等"
   ]
  },
  {
   "cell_type": "markdown",
   "metadata": {},
   "source": [
    "### 数据集待清理问题\n",
    "+ userId, 15700行空值\n",
    "+ registration, 用户注册时间，用从epoch开始的秒数表示，long类型，不是timestamp\n",
    "+ ts, 事件发生时间，用从epoch开始的秒数，long类型，不是timestamp \n",
    "+ userAgent, 字符串太长"
   ]
  },
  {
   "cell_type": "markdown",
   "metadata": {},
   "source": [
    "### 清理"
   ]
  },
  {
   "cell_type": "code",
   "execution_count": 3,
   "metadata": {},
   "outputs": [],
   "source": [
    "# 删除userId为空的行\n",
    "data_clean = data.filter(data.userId != '')\n",
    "\n",
    "# 将registration转为timestamp类型\n",
    "data_clean = data_clean.withColumn('registration_time',to_timestamp(data_clean.registration / 1000))\n",
    "data_clean = data_clean.drop('registration').withColumnRenamed('registration_time','registration')\n",
    "\n",
    "# 将ts转为timestamp类型\n",
    "data_clean = data_clean.withColumn('ts_time',to_timestamp(data_clean.ts / 1000))\n",
    "data_clean = data_clean.drop('ts').withColumnRenamed('ts_time','ts')"
   ]
  },
  {
   "cell_type": "code",
   "execution_count": 4,
   "metadata": {},
   "outputs": [],
   "source": [
    "# userAgent 截取终端信息\n",
    "get_agent = udf(lambda x: re.search('(?<=\\()\\w*', x).group())\n",
    "data_clean = data_clean.withColumn('platform',get_agent(data_clean.userAgent))\n",
    "data_clean = data_clean.drop('userAgent').withColumnRenamed('platform','userAgent')"
   ]
  },
  {
   "cell_type": "code",
   "execution_count": 5,
   "metadata": {},
   "outputs": [
    {
     "data": {
      "text/plain": [
       "[Row(userAgent='iPad', count=16004),\n",
       " Row(userAgent='X11', count=25028),\n",
       " Row(userAgent='iPhone', count=14481),\n",
       " Row(userAgent='Macintosh', count=202059),\n",
       " Row(userAgent='compatible', count=21777),\n",
       " Row(userAgent='Windows', count=248656)]"
      ]
     },
     "execution_count": 5,
     "metadata": {},
     "output_type": "execute_result"
    }
   ],
   "source": [
    "# 查看userAgent信息\n",
    "data_clean.groupBy('userAgent').count().collect()"
   ]
  },
  {
   "cell_type": "markdown",
   "metadata": {},
   "source": [
    "## 探索性数据分析\n",
    "### 用户数量统计"
   ]
  },
  {
   "cell_type": "code",
   "execution_count": 6,
   "metadata": {},
   "outputs": [
    {
     "name": "stdout",
     "output_type": "stream",
     "text": [
      "Total User: 448\n",
      "Paid User: 321\n",
      "Lost User: 151\n"
     ]
    }
   ],
   "source": [
    "# 总用户数量\n",
    "print('Total User: {}'.format(data_clean.select('userId').distinct().count()))\n",
    "\n",
    "# 会员用户数量, 包括现有会员用户和流失会员\n",
    "print('Paid User: {}'.format(data_clean.select('userId').where(data_clean.level == 'paid').distinct().count()))\n",
    "\n",
    "# 流失会员数量\n",
    "lost = data_clean.select('userId').where(data_clean.level == 'paid') \\\n",
    "                            .where((data_clean.page== 'Submit Downgrade') | (data_clean.page == 'Cancellation Confirmation')) \\\n",
    "                            .distinct().count()\n",
    "print('Lost User: {}'.format(lost))"
   ]
  },
  {
   "cell_type": "markdown",
   "metadata": {},
   "source": [
    "研究对象用户448位，其只会员用户321位，免费用户127位。流失会员151位，占会员用户的47%，会员流失严重。  \n",
    "\n",
    "\n",
    "**本项目关注的会员用户的行为，因此过滤掉免费用户，并添加一列churn用于标记是否为流失会员，1为流失，0为保留**"
   ]
  },
  {
   "cell_type": "code",
   "execution_count": 7,
   "metadata": {},
   "outputs": [
    {
     "data": {
      "text/plain": [
       "321"
      ]
     },
     "execution_count": 7,
     "metadata": {},
     "output_type": "execute_result"
    }
   ],
   "source": [
    "# 筛选会员用户的userId\n",
    "userId_paid = data_clean.select('userId').where(data_clean.level == 'paid').distinct().rdd.flatMap(lambda x: x).collect()\n",
    "\n",
    "# 过滤掉非会员用户数据\n",
    "data_clean = data_clean.filter(data_clean.userId.isin(userId_paid))\n",
    "\n",
    "# 流失用户userId\n",
    "userIdLost = data_clean.select('userId').where((data_clean.page == 'Submit Downgrade') | (data_clean.page == 'Cancellation Confirmation')) \\\n",
    "                                   .distinct().rdd.flatMap(lambda x: x).collect()\n",
    "get_tag = udf(lambda x: 1 if x in userIdLost else 0, IntegerType())\n",
    "\n",
    "# 添加一列churn，1 表示流失会员，0表示保留会员\n",
    "data_clean = data_clean.withColumn('churn', get_tag(data_clean.userId))\n",
    "\n",
    "# 检查用户数量\n",
    "data_clean.select('userId').distinct().count()"
   ]
  },
  {
   "cell_type": "markdown",
   "metadata": {},
   "source": [
    "### 会员用户流失行为探索\n",
    "+ **会员用户与流失用户的性别分布对比**"
   ]
  },
  {
   "cell_type": "code",
   "execution_count": 15,
   "metadata": {},
   "outputs": [
    {
     "data": {
      "image/png": "[encoded data removed]",
      "text/plain": [
       "<matplotlib.figure.Figure at 0x7fe5f97d85f8>"
      ]
     },
     "metadata": {
      "needs_background": "light"
     },
     "output_type": "display_data"
    }
   ],
   "source": [
    "# 会员用户与流失用户的性别分布对比\n",
    "data_temp = data_clean.select('userId','gender','churn').drop_duplicates(subset=['userId'])\n",
    "\n",
    "plt.figure(figsize=(8,6))\n",
    "sns.countplot(data = data_temp.toPandas(), x = 'gender', hue='churn',hue_order=[0,1])\n",
    "plt.xlabel('Gender')\n",
    "plt.ylabel('Count')\n",
    "plt.legend(['paid','lost'],title='churn')\n",
    "plt.title('The Gender Distribute Diffrence Between Paid And Lost');"
   ]
  },
  {
   "cell_type": "markdown",
   "metadata": {},
   "source": [
    "会员用户与流失用户均男性偏多，但性别比例上两者并没有明显差异"
   ]
  },
  {
   "cell_type": "markdown",
   "metadata": {},
   "source": [
    " + **会员用户与流失用户使用sparkify时间段分布差异**"
   ]
  },
  {
   "cell_type": "code",
   "execution_count": 16,
   "metadata": {},
   "outputs": [
    {
     "data": {
      "image/png": "[encoded data removed]",
      "text/plain": [
       "<matplotlib.figure.Figure at 0x7fe5f96e0ac8>"
      ]
     },
     "metadata": {
      "needs_background": "light"
     },
     "output_type": "display_data"
    }
   ],
   "source": [
    "# 会员用户与流失用户使用sparkify时间段差异\n",
    "data_temp = data_clean.select('userId','sessionId','ts','churn')\n",
    "data_temp = data_temp.withColumn('period', hour(data_temp.ts))\n",
    "# 过滤同一用户、同一时间段操作多次的行为\n",
    "data_temp = data_temp.drop_duplicates(subset=['userId','sessionId','period'])\n",
    "\n",
    "plt.figure(figsize=(8,6))\n",
    "sns.countplot(data = data_temp.toPandas(), x = 'period', hue='churn', hue_order=[0,1])\n",
    "plt.xlabel('Visit Sparkify Time Period')\n",
    "plt.ylabel('Count')\n",
    "plt.legend(['paid','lost'], title='churn')\n",
    "plt.title('The Period Distribute Diffrence Between Paid And Lost');"
   ]
  },
  {
   "cell_type": "markdown",
   "metadata": {},
   "source": [
    "会员用户与流失用户访问sparkify时间段上，两者均在3~10点是低谷，15~20点是高峰，在各个时间段，流失用户的活跃度略高"
   ]
  },
  {
   "cell_type": "markdown",
   "metadata": {},
   "source": [
    "+ **会员用户与流失用户注册时间长短差异**"
   ]
  },
  {
   "cell_type": "code",
   "execution_count": 17,
   "metadata": {},
   "outputs": [],
   "source": [
    "# 筛选用户的注册时间和最后的使用时间\n",
    "data_temp = data_clean.select('userId','registration','ts', 'churn') \\\n",
    "              .groupBy('userId') \\\n",
    "              .agg({\"ts\": \"max\",\"registration\": \"max\", \"churn\": \"max\"}) \\\n",
    "              .withColumnRenamed('max(registration)','registration') \\\n",
    "              .withColumnRenamed('max(ts)','ts') \\\n",
    "              .withColumnRenamed('max(churn)','churn')\n",
    "# 添加duration列，表示从注册开始到最后时间为止的天数\n",
    "data_temp = data_temp.withColumn('duration', datediff(data_temp.ts, data_temp.registration))"
   ]
  },
  {
   "cell_type": "code",
   "execution_count": 18,
   "metadata": {
    "scrolled": false
   },
   "outputs": [
    {
     "data": {
      "image/png": "[encoded data removed]",
      "text/plain": [
       "<matplotlib.figure.Figure at 0x7fe5f969d4a8>"
      ]
     },
     "metadata": {
      "needs_background": "light"
     },
     "output_type": "display_data"
    }
   ],
   "source": [
    "plt.figure(1, figsize=(16,6))\n",
    "max_value = list(data_temp.groupBy().max('duration').collect()[0])[0]\n",
    "bins = np.arange(0,max_value+5, 5)\n",
    "\n",
    "data_temp_paid = data_temp.filter(data_temp.churn == 0)\n",
    "plt.subplot(1,2,1)\n",
    "plt.hist(data = data_temp_paid.toPandas(), x = 'duration', bins=bins)\n",
    "xticks = np.arange(0, max_value, 10)\n",
    "plt.xticks(xticks, xticks)\n",
    "plt.xticks(rotation=90)\n",
    "yticks = np.arange(0,25+5, 5)\n",
    "plt.yticks(yticks, yticks)\n",
    "plt.xlabel('register days')\n",
    "plt.ylabel('count')\n",
    "plt.title('Register Days Distribute of Paid')\n",
    "\n",
    "data_temp_lost = data_temp.filter(data_temp.churn == 1)\n",
    "plt.subplot(1,2,2)\n",
    "plt.hist(data = data_temp_lost.toPandas(), x = 'duration', bins=bins, color='darkorange')\n",
    "xticks = np.arange(0, max_value, 10)\n",
    "plt.xticks(xticks, xticks)\n",
    "plt.xticks(rotation=90)\n",
    "yticks = np.arange(0,25+5, 5)\n",
    "plt.yticks(yticks, yticks)\n",
    "plt.xlabel('register days')\n",
    "plt.ylabel('count')\n",
    "plt.title('Register Days Distribute of Lost');"
   ]
  },
  {
   "cell_type": "markdown",
   "metadata": {},
   "source": [
    "无论是现有会员用户还是流失用户，注册使用天数大部分都集中在110天以内，长期会员用户比例很低，注册天数是一个重要的指标"
   ]
  },
  {
   "cell_type": "markdown",
   "metadata": {},
   "source": [
    "+ **会员用户与流失用户活跃度差异**  \n",
    "用户的行为和时间有强关联性，例如用户刚刚注册的时候，新鲜感强，无论是使用时间还是使用次数都会多些；随着时间的推移，使用时间可能会随之减少。下面观察下用户行为与时间的关系:\n",
    "    + 用户从注册以来活跃的天数，为对比不同注册时间的用户，使用活跃天数占比来表示\n",
    "    + 用户最近两周活跃天数\n",
    "    + 用户最近两周听歌数量"
   ]
  },
  {
   "cell_type": "code",
   "execution_count": 19,
   "metadata": {},
   "outputs": [],
   "source": [
    "# 准备数据\n",
    "data_temp = data_clean.select('userId','registration','page','ts','churn','sessionId')\n",
    "\n",
    "# 筛选用户的注册时间和最后的使用时间\n",
    "last_day = data_clean.select('userId','ts') \\\n",
    "              .groupBy('userId') \\\n",
    "              .agg({\"ts\": \"max\"}) \\\n",
    "              .withColumn('last_day', to_date('max(ts)')) \\\n",
    "              .withColumnRenamed('userId', 'id') \\\n",
    "              .drop('max(ts)')\n",
    "\n",
    "data_temp = data_temp.join(last_day, data_temp.userId == last_day.id, 'left').drop('id')\n",
    "\n",
    "# 过滤注册时间小于2周的用户\n",
    "data_temp = data_temp.filter(datediff(data_temp.last_day, data_temp.registration) >= 14)\n",
    "\n",
    "# 添加lastTwoWeeks列表示最近两周的日期\n",
    "data_temp = data_temp.withColumn('lastTwoWeeks', date_sub(data_temp.last_day, 14))\n",
    "\n",
    "active_day = data_temp.select('userId',to_date('ts').alias('activeDay')) \\\n",
    "                        .drop_duplicates(subset=['userId','activeDay']) \\\n",
    "                        .groupBy('userId') \\\n",
    "                        .agg({'activeDay' : 'count'}) \\\n",
    "                        .withColumnRenamed('count(activeDay)','activeDays') \\\n",
    "                        .withColumnRenamed('userId','id')\n",
    "\n",
    "data_temp = data_temp.join(active_day, data_temp.userId == active_day.id, 'left').drop('id')\n",
    "\n",
    "data_temp = data_temp.withColumn('activeDayProption', round(data_temp.activeDays / datediff(data_temp.last_day, data_temp.registration),2)*100)"
   ]
  },
  {
   "cell_type": "code",
   "execution_count": 20,
   "metadata": {
    "scrolled": true
   },
   "outputs": [
    {
     "data": {
      "image/png": "[encoded data removed]",
      "text/plain": [
       "<matplotlib.figure.Figure at 0x7fe5f970b438>"
      ]
     },
     "metadata": {
      "needs_background": "light"
     },
     "output_type": "display_data"
    }
   ],
   "source": [
    "# 用户活跃天数比例\n",
    "plt.figure(1, figsize=(16,6))\n",
    "bins = np.arange(0, 100+1, 10)\n",
    "\n",
    "plt.subplot(1,2,1)\n",
    "data_temp_paid = data_temp.filter(data_temp.churn == 0).drop_duplicates(subset=['userId'])\n",
    "plt.hist(data = data_temp_paid.toPandas(), x = 'activeDayProption', bins=bins)\n",
    "plt.xticks(bins, bins)\n",
    "plt.xlabel('Proption(%)')\n",
    "yticks = np.arange(0,60+1,10)\n",
    "plt.yticks(yticks, yticks)\n",
    "plt.ylabel('count')\n",
    "plt.title('Active Days Proption of Paid')\n",
    "\n",
    "plt.subplot(1,2,2)\n",
    "data_temp_lost = data_temp.filter(data_temp.churn == 1).drop_duplicates(subset=['userId'])\n",
    "plt.hist(data = data_temp_lost.toPandas(), x = 'activeDayProption', bins=bins, color='darkorange')\n",
    "plt.xticks(bins, bins)\n",
    "yticks = np.arange(0,60+1,10)\n",
    "plt.yticks(yticks, yticks)\n",
    "plt.xlabel('Proption(%)')\n",
    "plt.ylabel('count')\n",
    "plt.title('Active Days Proption of Lost');"
   ]
  },
  {
   "cell_type": "markdown",
   "metadata": {},
   "source": [
    "流失用户活跃天数比例超过40%的数量高于会员用户"
   ]
  },
  {
   "cell_type": "code",
   "execution_count": 21,
   "metadata": {
    "scrolled": true
   },
   "outputs": [
    {
     "data": {
      "image/png": "[encoded data removed]",
      "text/plain": [
       "<matplotlib.figure.Figure at 0x7fe5f94a34a8>"
      ]
     },
     "metadata": {
      "needs_background": "light"
     },
     "output_type": "display_data"
    }
   ],
   "source": [
    "# 用户最近两周活跃天数\n",
    "data_last2weeks = data_temp.filter(to_date(data_temp.ts) > data_temp.lastTwoWeeks)\n",
    "data_last2weeks = data_last2weeks.select('userId',to_date('ts').alias('activeDay'),'churn') \\\n",
    "                        .drop_duplicates(subset=['userId','activeDay']) \\\n",
    "                        .groupBy('userId') \\\n",
    "                        .agg({'activeDay' : 'count', 'churn':'max'}) \\\n",
    "                        .withColumnRenamed('count(activeDay)','activeDays') \\\n",
    "                        .withColumnRenamed('max(churn)','churn')\n",
    "\n",
    "\n",
    "plt.figure(figsize=(8,6))\n",
    "sns.countplot(data = data_last2weeks.toPandas(), x = 'activeDays', hue='churn', hue_order=[0,1])\n",
    "plt.xlabel('Actived Days of Last Two Weeks')\n",
    "plt.ylabel('Count')\n",
    "plt.legend(['paid','lost'], title='churn')\n",
    "plt.title('The Actived Days Diffrence Between Paid And Lost of Last Two Weeks');"
   ]
  },
  {
   "cell_type": "markdown",
   "metadata": {},
   "source": [
    "最近两周的活跃天数大于7天的用户中，流失用户数量也是高于会员用户"
   ]
  },
  {
   "cell_type": "code",
   "execution_count": 22,
   "metadata": {
    "scrolled": true
   },
   "outputs": [
    {
     "data": {
      "image/png": "[encoded data removed]",
      "text/plain": [
       "<matplotlib.figure.Figure at 0x7fe5f9450160>"
      ]
     },
     "metadata": {
      "needs_background": "light"
     },
     "output_type": "display_data"
    }
   ],
   "source": [
    "# 用户最近两周听歌数量\n",
    "plt.figure(1, figsize=(16,6))\n",
    "\n",
    "data_last2weeks = data_temp.filter(to_date(data_temp.ts) > data_temp.lastTwoWeeks)\n",
    "data_last2weeks = data_last2weeks.select('userId', 'page','churn').where(data_last2weeks.page == 'NextSong') \\\n",
    "              .groupBy('userId') \\\n",
    "              .agg({\"page\": \"count\", \"churn\": \"max\"}) \\\n",
    "              .withColumnRenamed('count(page)', 'counts') \\\n",
    "              .withColumnRenamed('max(churn)','churn')\n",
    "\n",
    "max_value = list(data_last2weeks.groupBy().max('counts').collect()[0])[0]\n",
    "bins = np.arange(0,max_value+100, 100)\n",
    "\n",
    "plt.subplot(1,2,1)\n",
    "data_last2weeks_paid = data_last2weeks.where(data_last2weeks.churn == 0)\n",
    "plt.hist(data=data_last2weeks_paid.toPandas(), x='counts',bins=bins)\n",
    "plt.xticks(bins, bins)\n",
    "plt.xticks(rotation=90)\n",
    "yticks = np.arange(0,35+1,5)\n",
    "plt.yticks(yticks, yticks)\n",
    "plt.xlabel('Number of Songs')\n",
    "plt.ylabel('count')\n",
    "plt.title('Number of Songs for Last Week of Paid')\n",
    "\n",
    "plt.subplot(1,2,2)\n",
    "data_last2weeks_lost = data_last2weeks.where(data_last2weeks.churn == 1)\n",
    "plt.hist(data=data_last2weeks_lost.toPandas(), x='counts', bins=bins, color='darkorange')\n",
    "plt.xticks(bins, bins)\n",
    "plt.xticks(rotation=90)\n",
    "yticks = np.arange(0,35+1,5)\n",
    "plt.yticks(yticks, yticks)\n",
    "plt.xlabel('Number of Songs')\n",
    "plt.ylabel('count')\n",
    "plt.title('Number of Songs for Last Week of Lost');"
   ]
  },
  {
   "cell_type": "markdown",
   "metadata": {},
   "source": [
    "从最近两周的听歌数量来看，流失用户更喜欢听歌，尤其听歌数量高于700首的流失用户数量高于会员用户"
   ]
  },
  {
   "cell_type": "markdown",
   "metadata": {},
   "source": [
    "+ **会员用户与流失用户访问页面差异**"
   ]
  },
  {
   "cell_type": "code",
   "execution_count": 23,
   "metadata": {},
   "outputs": [
    {
     "data": {
      "image/png": "[encoded data removed]",
      "text/plain": [
       "<matplotlib.figure.Figure at 0x7fe5f95a2f98>"
      ]
     },
     "metadata": {
      "needs_background": "light"
     },
     "output_type": "display_data"
    }
   ],
   "source": [
    "data_temp = data_clean.select('userId','page','churn')\n",
    "\n",
    "order = data_temp.toPandas().page.value_counts().index\n",
    "\n",
    "plt.figure(figsize=(8,6))\n",
    "sns.countplot(data = data_temp.toPandas(), x = 'page', order=order, hue='churn',hue_order=[0,1])\n",
    "plt.xlabel('Page')\n",
    "plt.ylabel('Count')\n",
    "plt.xticks(rotation=90)\n",
    "plt.legend(['paid','lost'],title='churn')\n",
    "plt.title('The Page Distribute Diffrence Between Paid And Lost')\n",
    "plt.legend(['paid','lost'],title='churn',loc='upper right');"
   ]
  },
  {
   "cell_type": "code",
   "execution_count": 24,
   "metadata": {},
   "outputs": [
    {
     "data": {
      "image/png": "[encoded data removed]",
      "text/plain": [
       "<matplotlib.figure.Figure at 0x7fe62e608128>"
      ]
     },
     "metadata": {
      "needs_background": "light"
     },
     "output_type": "display_data"
    }
   ],
   "source": [
    "# NextSong的数值远高于其他Page, 为观察其他Page，先过滤掉NextSong\n",
    "data_temp = data_clean.select('userId','page','churn').where(data_clean.page != 'NextSong')\n",
    "\n",
    "order = data_temp.toPandas().page.value_counts().index\n",
    "\n",
    "plt.figure(figsize=(8,6))\n",
    "sns.countplot(data = data_temp.toPandas(), x = 'page', order=order, hue='churn',hue_order=[0,1])\n",
    "plt.xlabel('Page')\n",
    "plt.ylabel('Count')\n",
    "plt.xticks(rotation=90)\n",
    "plt.legend(['paid','lost'],title='churn')\n",
    "plt.title('The Page Distribute Diffrence Between Paid And Lost')\n",
    "plt.legend(['paid','lost'],title='churn',loc='upper right');"
   ]
  },
  {
   "cell_type": "markdown",
   "metadata": {},
   "source": [
    "会员用户和流失用户访问NextSong page是最多的，远远高于其他page; 值得注意的是，流失用户Roll Advert比会员用户高出一倍，难道是Roll Advert影响了体验？Thumbs Down和Downgrade 流失用户也比会员用户高，这两个页面值得关注，Thumbs Down表示用户体验不好；用户访问Downgrade表示有取消服务的倾向，但没有真的取消服务，只有Submit Downgrade才真正取消。"
   ]
  },
  {
   "cell_type": "markdown",
   "metadata": {},
   "source": [
    "+ **会员用户与流失用户使用的终端差异**"
   ]
  },
  {
   "cell_type": "code",
   "execution_count": 25,
   "metadata": {},
   "outputs": [
    {
     "data": {
      "image/png": "[encoded data removed]",
      "text/plain": [
       "<matplotlib.figure.Figure at 0x7fe5f86b1748>"
      ]
     },
     "metadata": {
      "needs_background": "light"
     },
     "output_type": "display_data"
    }
   ],
   "source": [
    "# 会员用户与流失用户使用终端差异\n",
    "data_temp = data_clean.select('userId','userAgent','sessionId','churn')\n",
    "# 过滤同一用户、同一时间段操作多次的行为\n",
    "data_temp = data_temp.drop_duplicates(subset=['userId','sessionId'])\n",
    "\n",
    "plt.figure(figsize=(8,6))\n",
    "sns.countplot(data = data_temp.toPandas(), x = 'userAgent', hue='churn',hue_order=[0,1])\n",
    "plt.xlabel('Platform')\n",
    "plt.ylabel('Count')\n",
    "plt.legend(['paid','lost'], title='churn')\n",
    "plt.title('The Platform Distribute Diffrence Between Paid And Lost');"
   ]
  },
  {
   "cell_type": "markdown",
   "metadata": {},
   "source": [
    "sparkify用户中，使用Windows和Macintosh明显比其他终端多；流失用户使用iPhone的比例要明显高于会员用户，有可能是iPhone客户端的体验不好。"
   ]
  },
  {
   "cell_type": "markdown",
   "metadata": {},
   "source": [
    "## 特征工程\n",
    "综合数据探索结果，以下特征比较重要:\n",
    "+ gender\n",
    "+ 注册天数\n",
    "+ 注册以来，活跃天数占比\n",
    "+ 最近两周活跃天数占比，注册不足两周的，以注册以来的活跃天数占比替代\n",
    "+ 最近两周听歌数量\n",
    "+ 访问Roll Advert页面次数\n",
    "+ 访问Thumbs Dowm页面次数\n",
    "+ 访问Downgrade页面次数\n",
    "+ platform"
   ]
  },
  {
   "cell_type": "code",
   "execution_count": 8,
   "metadata": {},
   "outputs": [],
   "source": [
    "# 创建FeatureEngine, 用于从data_clean中提取特征， 也可用于从后续的新数据提取特征，用于预测\n",
    "class FeatureEngine:\n",
    "    '''\n",
    "    从清理后的数据中提取关键特征，并对数据进行缩放；\n",
    "    保存数据缩放模型，预测新数据时，先使用此模型缩放，再预测\n",
    "    '''\n",
    "    def __init__(self):\n",
    "        pass\n",
    "    \n",
    "    def getFeature(self):\n",
    "        # 提取特征\n",
    "        # 添加一列gender_num，将gender中F, M 转为数字0,1\n",
    "        get_gender = udf(lambda x: 1 if x == 'M' else 0, IntegerType())\n",
    "        self.data = self.data.withColumn('gender_num',get_gender(self.data.gender))\n",
    "        \n",
    "        # 添加一列lastDay, 表示最后使用的时间\n",
    "        temp = self.data.select('userId','ts') \\\n",
    "                      .groupBy('userId') \\\n",
    "                      .agg({\"ts\": \"max\"}) \\\n",
    "                      .withColumnRenamed('max(ts)','lastDay')\n",
    "        self.data = self.data.join(temp, 'userId', 'left')\n",
    "\n",
    "        # 添加一列registDays表示从注册开始的天数\n",
    "        self.data = self.data.withColumn('registDays', datediff(self.data.lastDay, self.data.registration))\n",
    "        \n",
    "        # 添加一列activeDays表示从注册以来的活跃天数\n",
    "        temp = self.data.select('userId',to_date('ts').alias('activeDays')) \\\n",
    "                            .drop_duplicates(subset=['userId','activeDays']) \\\n",
    "                            .groupBy('userId') \\\n",
    "                            .agg({\"activeDays\": \"count\"}) \\\n",
    "                            .withColumnRenamed('count(activeDays)', 'activeDays')\n",
    "\n",
    "        self.data = self.data.join(temp, 'userId', 'left')\n",
    "        \n",
    "        # 获取注册以来，活跃天数占比\n",
    "        self.data = self.data.withColumn('activeProption',round(self.data.activeDays / self.data.registDays, 2))\n",
    "\n",
    "        # 添加一列last2week,表示从lastDay倒推2周的日期，如果注册不足两周，以registration日期代替\n",
    "        self.data = self.data.withColumn('lastDaySub2Week',date_sub(self.data.lastDay, 14))\n",
    "        self.data = self.data.withColumn('last2week', when(self.data.registration > self.data.lastDaySub2Week, self.data.registration) \\\n",
    "                                        .otherwise(self.data.lastDaySub2Week))       \n",
    "        \n",
    "        # 添加一列activeDaysLast2Week表示最后两周的活跃天数\n",
    "        temp = self.data.filter(self.data.ts > self.data.last2week) \\\n",
    "                            .select('userId',to_date('ts').alias('activeDays')) \\\n",
    "                            .drop_duplicates(subset=['userId','activeDays']) \\\n",
    "                            .groupBy('userId') \\\n",
    "                            .agg({\"activeDays\": \"count\"}) \\\n",
    "                            .withColumnRenamed('count(activeDays)', 'activeDaysLast2Week')\n",
    "\n",
    "        self.data = self.data.join(temp, 'userId', 'left')\n",
    "\n",
    "        # 计算最后两周活跃天数比例\n",
    "        self.data = self.data.withColumn('activePropLast2Weeks', round(self.data.activeDaysLast2Week / 14, 2))\n",
    "\n",
    "        # 最近两周听歌数量\n",
    "        songNums = self.data.filter((self.data.page == 'NextSong') & (self.data.ts > self.data.last2week)) \\\n",
    "                            .groupBy('userId') \\\n",
    "                            .agg({'page':'count'}) \\\n",
    "                            .withColumnRenamed('count(page)','songNums')\n",
    "        \n",
    "        # 访问Roll Advert页面次数\n",
    "        rollAdvertNum = self.data.filter(self.data.page == 'Roll Advert') \\\n",
    "                            .select('userId','page') \\\n",
    "                            .groupBy('userId') \\\n",
    "                            .agg({'page':'count'}) \\\n",
    "                            .withColumnRenamed('count(page)','rollAdvertNum')\n",
    "        \n",
    "        # 访问Thumbs Dowm页面次数\n",
    "        thumbsDownNum = self.data.filter(self.data.page == 'Thumbs Down') \\\n",
    "                            .select('userId','page') \\\n",
    "                            .groupBy('userId') \\\n",
    "                            .agg({'page':'count'}) \\\n",
    "                            .withColumnRenamed('count(page)','thumbsDownNum')\n",
    "        \n",
    "        # 访问Downgrade页面次数\n",
    "        DowngradeNum = self.data.filter(self.data.page == 'Downgrade') \\\n",
    "                            .select('userId','page') \\\n",
    "                            .groupBy('userId') \\\n",
    "                            .agg({'page':'count'}) \\\n",
    "                            .withColumnRenamed('count(page)','DowngradeNum')\n",
    "        \n",
    "         # platform\n",
    "        temp = self.data.select('userId','userAgent','sessionId') \\\n",
    "                        .groupBy(['userId','userAgent']) \\\n",
    "                        .agg({'sessionId':'count'}) \\\n",
    "                        .withColumnRenamed('count(sessionId)','num')\n",
    "\n",
    "        platform = temp.groupBy('userId') \\\n",
    "                            .pivot('userAgent') \\\n",
    "                            .agg(first('num')).fillna(0)\n",
    "        \n",
    "        self.data = self.data.select('userId','gender_num','registDays','activeProption','activePropLast2Weeks') \\\n",
    "                            .join(songNums, 'userId', 'left') \\\n",
    "                            .join(rollAdvertNum, 'userId', 'left') \\\n",
    "                            .join(thumbsDownNum, 'userId', 'left') \\\n",
    "                            .join(DowngradeNum, 'userId', 'left') \\\n",
    "                            .join(platform, 'userId', 'left') \\\n",
    "                            .fillna(0) \\\n",
    "                            .drop_duplicates(subset=['userId'])        \n",
    "        \n",
    "    \n",
    "    def transform(self, data, update=False):\n",
    "        self.data = data\n",
    "        self.getFeature()\n",
    "        assembler = VectorAssembler(inputCols=['registDays','songNums','rollAdvertNum','thumbsDownNum','DowngradeNum'], \\\n",
    "                                            outputCol='num_feature')\n",
    "        self.data = assembler.transform(self.data) \n",
    "        \n",
    "        if(update):\n",
    "            # 保存mmScalerModel，用于转换新数据\n",
    "            mmScaler = MinMaxScaler(inputCol=\"num_feature\", outputCol=\"num_feature_scaled\")\n",
    "            self.mmScalerModel = mmScaler.fit(self.data)\n",
    "            \n",
    "        self.data = self.mmScalerModel.transform(self.data)\n",
    "        \n",
    "        # Macintosh,Windows,X11,compatible,iPad,iPhone 正则化，表示同一用户使用各终端的比例\n",
    "        assembler = VectorAssembler(inputCols=['Macintosh','Windows','X11','compatible','iPad','iPhone'], \\\n",
    "                                             outputCol=\"platform_feature\")\n",
    "        self.data = assembler.transform(self.data)\n",
    "        normalizer = Normalizer(inputCol=\"platform_feature\", outputCol=\"platform_feature_scaled\")\n",
    "        self.data = normalizer.transform(self.data)\n",
    "\n",
    "        assembler = VectorAssembler(inputCols=['num_feature_scaled','platform_feature_scaled'], outputCol=\"features\")\n",
    "        self.data = assembler.transform(self.data).select('userId','features')"
   ]
  },
  {
   "cell_type": "code",
   "execution_count": 9,
   "metadata": {
    "scrolled": true
   },
   "outputs": [],
   "source": [
    "data_feature = FeatureEngine()\n",
    "data_feature.transform(data_clean, True)"
   ]
  },
  {
   "cell_type": "code",
   "execution_count": 10,
   "metadata": {},
   "outputs": [],
   "source": [
    "# 为训练添加一列label, 1 表示流失会员，0表示保留会员\n",
    "# 流失用户userId\n",
    "userIdLost = data_clean.select('userId').where((data_clean.page == 'Submit Downgrade') | (data_clean.page == 'Cancellation Confirmation')) \\\n",
    "                                   .distinct().rdd.flatMap(lambda x: x).collect()\n",
    "get_tag = udf(lambda x: 1 if x in userIdLost else 0, IntegerType())\n",
    "\n",
    "data_feature.data = data_feature.data.withColumn('label', get_tag(data_feature.data.userId))"
   ]
  },
  {
   "cell_type": "code",
   "execution_count": 11,
   "metadata": {},
   "outputs": [],
   "source": [
    "# 将数据分为训练集，验证集，测试集，比例分别为0.6, 0.2, 0.2\n",
    "train_data, rest = data_feature.data.randomSplit([0.6,0.4], seed=42)\n",
    "test_data, val_data = rest.randomSplit([0.5,0.5],seed=42)"
   ]
  },
  {
   "cell_type": "code",
   "execution_count": 12,
   "metadata": {},
   "outputs": [],
   "source": [
    "# 执行collect使randomSplit生效，否则后续读取train_data, val_data, test_data会非常慢\n",
    "train_data = spark.createDataFrame(train_data.collect())\n",
    "val_data = spark.createDataFrame(val_data.collect())\n",
    "test_data = spark.createDataFrame(test_data.collect())"
   ]
  },
  {
   "cell_type": "code",
   "execution_count": 13,
   "metadata": {
    "scrolled": false
   },
   "outputs": [
    {
     "name": "stdout",
     "output_type": "stream",
     "text": [
      "train_data size: 200\n",
      "val_data size: 95\n",
      "test_data size: 26\n"
     ]
    }
   ],
   "source": [
    "# 查看训练集，验证集，测试集大小\n",
    "print('train_data size: {}'.format(train_data.count()))\n",
    "print('val_data size: {}'.format(val_data.count()))\n",
    "print('test_data size: {}'.format(test_data.count()))"
   ]
  },
  {
   "cell_type": "markdown",
   "metadata": {},
   "source": [
    "## 建模\n",
    "本项目需要解决的是二元分类问题，数据量小、特征维度低，选择机器学习中常用的分类模型训练数据，并对比天真预测器的效果：\n",
    "+ 逻辑回归，计算速度快，内存资源占用小，适合二分类问题\n",
    "+ 决策树，决策树易于理解和实现，计算复杂度相对较低，算法执行效率高\n",
    "+ SVM，SVM利用核函数代替向高维空间的非线性映射，避开高维度的复杂性。本数据集没有缺失数据，数据集数量小，且为二分类问题，比较适用"
   ]
  },
  {
   "cell_type": "markdown",
   "metadata": {},
   "source": [
    "### 天真预测器\n",
    "由数据探索部分可知，约47%的用户流失。如果对于每个用户简单的预测为流失用户，这样就可以得到一个准确率约47%的预测。使用天真预测器在验证集上计算准确率和 F-score"
   ]
  },
  {
   "cell_type": "code",
   "execution_count": 30,
   "metadata": {},
   "outputs": [
    {
     "name": "stdout",
     "output_type": "stream",
     "text": [
      "Naive Predictor on validation data\n",
      "       Accuracy: 0.4421 \n",
      "       Precision: 0.4421 \n",
      "       Recall: 1.0000 \n",
      "       F1 score: 0.6131\n"
     ]
    }
   ],
   "source": [
    "total = val_data.count()\n",
    "lost = val_data.filter(val_data.label == 1).count()\n",
    "keep = val_data.filter(val_data.label == 0).count()\n",
    "\n",
    "#天真预测器，预测所有用户均为流失用户\n",
    "accuracy = lost / total\n",
    "precision = lost / total\n",
    "recall = lost / lost\n",
    "F1 = 2*precision*recall / (precision + recall)\n",
    "print(\"Naive Predictor on validation data\\n \\\n",
    "      Accuracy: {:.4f} \\n \\\n",
    "      Precision: {:.4f} \\n \\\n",
    "      Recall: {:.4f} \\n \\\n",
    "      F1 score: {:.4f}\".format(accuracy,precision, recall, F1))"
   ]
  },
  {
   "cell_type": "markdown",
   "metadata": {},
   "source": [
    "### 模型评估"
   ]
  },
  {
   "cell_type": "code",
   "execution_count": 35,
   "metadata": {},
   "outputs": [],
   "source": [
    "# 使用f1 score评估模型\n",
    "evaluator_f1 = MulticlassClassificationEvaluator(predictionCol='prediction', labelCol='label', metricName='f1')"
   ]
  },
  {
   "cell_type": "code",
   "execution_count": 57,
   "metadata": {},
   "outputs": [],
   "source": [
    "\n",
    "def model_evaluate(clf, proption, data):\n",
    "    '''\n",
    "    inputs:\n",
    "        clf: 训练模型\n",
    "        proption: 训练数据比例，取值范围0-1\n",
    "        data: 训练数据集\n",
    "    '''\n",
    "    result = {}\n",
    "    start = time.time()\n",
    "    model = clf.fit(data.sample(False, proption, 42))\n",
    "    end = time.time()\n",
    "    result['train_time'] = end - start\n",
    "    \n",
    "    val_predict = model.transform(val_data)\n",
    "    result['f1'] = evaluator_f1.evaluate(val_predict)\n",
    "    print (\"{} trained on {}% samples.\".format(clf.__class__.__name__, proption*100))\n",
    "    \n",
    "    return result"
   ]
  },
  {
   "cell_type": "code",
   "execution_count": 58,
   "metadata": {},
   "outputs": [],
   "source": [
    "# 创建分类模型\n",
    "lr = LogisticRegression(featuresCol=\"features\",labelCol=\"label\")\n",
    "dt = DecisionTreeClassifier(featuresCol=\"features\",labelCol=\"label\", seed=42)\n",
    "svm = LinearSVC(featuresCol=\"features\",labelCol=\"label\")"
   ]
  },
  {
   "cell_type": "code",
   "execution_count": 59,
   "metadata": {
    "scrolled": true
   },
   "outputs": [
    {
     "name": "stdout",
     "output_type": "stream",
     "text": [
      "LogisticRegression trained on 25.0% samples.\n",
      "LogisticRegression trained on 50.0% samples.\n",
      "LogisticRegression trained on 100.0% samples.\n",
      "DecisionTreeClassifier trained on 25.0% samples.\n",
      "DecisionTreeClassifier trained on 50.0% samples.\n",
      "DecisionTreeClassifier trained on 100.0% samples.\n",
      "LinearSVC trained on 25.0% samples.\n",
      "LinearSVC trained on 50.0% samples.\n",
      "LinearSVC trained on 100.0% samples.\n"
     ]
    }
   ],
   "source": [
    "# 训练数据比例分别为0.25, 0.5, 1\n",
    "results = {}\n",
    "for clf in [lr, dt, svm]:\n",
    "    clf_name = clf.__class__.__name__\n",
    "    results[clf_name] = {}\n",
    "    for i, prop in enumerate([0.25, 0.5, 1.0]):\n",
    "        results[clf_name][i] = model_evaluate(clf, prop, train_data)"
   ]
  },
  {
   "cell_type": "code",
   "execution_count": 212,
   "metadata": {
    "scrolled": true
   },
   "outputs": [
    {
     "data": {
      "image/png": "[encoded data removed]",
      "text/plain": [
       "<matplotlib.figure.Figure at 0x7f8280de2240>"
      ]
     },
     "metadata": {
      "needs_background": "light"
     },
     "output_type": "display_data"
    }
   ],
   "source": [
    "# 对比模型\n",
    "plt.figure(1, figsize=(16,6))\n",
    "\n",
    "bar_width = 0.3\n",
    "colors = ['#1F77B4','#FF7F0E','#2CA02C']\n",
    "  \n",
    "plt.subplot(1,2,1)\n",
    "# Super loop to plot four panels of data\n",
    "for k, clf in enumerate(results.keys()):\n",
    "    for i in np.arange(3):\n",
    "        plt.bar(i+k*bar_width, results[clf][i]['train_time'], width = bar_width, color = colors[k])\n",
    "        plt.xticks([0.45, 1.45, 2.45],[\"25%\", \"50%\", \"100%\"])\n",
    "        plt.xlabel(\"Training Set Proption\")\n",
    "        plt.xlim((-0.1, 3.0))\n",
    "        \n",
    "patches = []\n",
    "for k, clf in enumerate(results.keys()):\n",
    "    patches.append(mpatches.Patch(color = colors[k], label = clf))\n",
    "plt.legend(handles = patches,loc='upper right')\n",
    "plt.ylabel(\"Time (in seconds)\")\n",
    "plt.title(\"Model Training Time\")\n",
    "\n",
    "plt.subplot(1,2,2)\n",
    "# Super loop to plot four panels of data\n",
    "for k, clf in enumerate(results.keys()):\n",
    "    for i in np.arange(3):\n",
    "        plt.bar(i+k*bar_width, results[clf][i]['f1'], width = bar_width, color = colors[k])\n",
    "        plt.xticks([0.45, 1.45, 2.45],[\"25%\", \"50%\", \"100%\"])\n",
    "        plt.xlabel(\"Training Set Proption\")\n",
    "        plt.xlim((-0.1, 3.0))\n",
    "\n",
    "plt.legend(handles = patches, loc='lower center')\n",
    "plt.ylabel(\"F1 Score\")\n",
    "plt.title(\"F1 Score on Validation Set\");"
   ]
  },
  {
   "cell_type": "markdown",
   "metadata": {},
   "source": [
    "+ 从训练时间上来看，随着数据量的增加，逻辑回归和决策树在训练时间上并无明显变化，SVM的训练时间有所降低，但仍是前两者的十几倍\n",
    "+ 从f1 score上来看，随着数据量的增加，三种算均有提高f1 score, 其中决策树提升最快，且高于其他模型。 \n",
    "\n",
    "**综合训练时间和f1 score来看，决策树可以应用到更大规模的数据中，鲁棒性强，所以选择决策树模型**"
   ]
  },
  {
   "cell_type": "markdown",
   "metadata": {},
   "source": [
    "### 模型调优\n",
    "利用网格搜索和交叉验证，找到决策树的最优参数"
   ]
  },
  {
   "cell_type": "code",
   "execution_count": 165,
   "metadata": {},
   "outputs": [],
   "source": [
    "# 决策树模型调优\n",
    "dt = DecisionTreeClassifier(featuresCol=\"features\", \\\n",
    "                            labelCol=\"label\", \\\n",
    "                            seed=42)\n",
    "paramGrid = ParamGridBuilder() \\\n",
    "            .addGrid(dt.maxDepth, [3,5,8,10,15,20]) \\\n",
    "            .addGrid(dt.maxBins, [16,32,64,128]) \\\n",
    "            .addGrid(dt.minInfoGain, [0.01, 0.02, 0.03,0.05,0.1]) \\\n",
    "            .addGrid(dt.minInstancesPerNode, [5,10,15,20]) \\\n",
    "            .build()\n",
    "\n",
    "cv = CrossValidator(estimator = dt, \\\n",
    "                   estimatorParamMaps=paramGrid, \\\n",
    "                   evaluator=evaluator_f1, \\\n",
    "                   numFolds=5)\n",
    "\n",
    "cv_model = cv.fit(train_data)"
   ]
  },
  {
   "cell_type": "code",
   "execution_count": 211,
   "metadata": {
    "scrolled": true
   },
   "outputs": [
    {
     "data": {
      "text/plain": [
       "{Param(parent='DecisionTreeClassifier_94b808ba5307', name='cacheNodeIds', doc='If false, the algorithm will pass trees to executors to match instances with nodes. If true, the algorithm will cache node IDs for each instance. Caching can speed up training of deeper trees.'): False,\n",
       " Param(parent='DecisionTreeClassifier_94b808ba5307', name='checkpointInterval', doc='set checkpoint interval (>= 1) or disable checkpoint (-1). E.g. 10 means that the cache will get checkpointed every 10 iterations. Note: this setting will be ignored if the checkpoint directory is not set in the SparkContext'): 10,\n",
       " Param(parent='DecisionTreeClassifier_94b808ba5307', name='featuresCol', doc='features column name'): 'features',\n",
       " Param(parent='DecisionTreeClassifier_94b808ba5307', name='impurity', doc='Criterion used for information gain calculation (case-insensitive). Supported options: entropy, gini'): 'gini',\n",
       " Param(parent='DecisionTreeClassifier_94b808ba5307', name='labelCol', doc='label column name'): 'label',\n",
       " Param(parent='DecisionTreeClassifier_94b808ba5307', name='maxBins', doc='Max number of bins for discretizing continuous features.  Must be >=2 and >= number of categories for any categorical feature.'): 16,\n",
       " Param(parent='DecisionTreeClassifier_94b808ba5307', name='maxDepth', doc='Maximum depth of the tree. (>= 0) E.g., depth 0 means 1 leaf node; depth 1 means 1 internal node + 2 leaf nodes.'): 3,\n",
       " Param(parent='DecisionTreeClassifier_94b808ba5307', name='maxMemoryInMB', doc='Maximum memory in MB allocated to histogram aggregation.'): 256,\n",
       " Param(parent='DecisionTreeClassifier_94b808ba5307', name='minInfoGain', doc='Minimum information gain for a split to be considered at a tree node.'): 0.03,\n",
       " Param(parent='DecisionTreeClassifier_94b808ba5307', name='minInstancesPerNode', doc='Minimum number of instances each child must have after split.  If a split causes the left or right child to have fewer than minInstancesPerNode, the split will be discarded as invalid. Should be >= 1.'): 5,\n",
       " Param(parent='DecisionTreeClassifier_94b808ba5307', name='predictionCol', doc='prediction column name'): 'prediction',\n",
       " Param(parent='DecisionTreeClassifier_94b808ba5307', name='probabilityCol', doc='Column name for predicted class conditional probabilities. Note: Not all models output well-calibrated probability estimates! These probabilities should be treated as confidences, not precise probabilities'): 'probability',\n",
       " Param(parent='DecisionTreeClassifier_94b808ba5307', name='rawPredictionCol', doc='raw prediction (a.k.a. confidence) column name'): 'rawPrediction',\n",
       " Param(parent='DecisionTreeClassifier_94b808ba5307', name='seed', doc='random seed'): 42}"
      ]
     },
     "execution_count": 211,
     "metadata": {},
     "output_type": "execute_result"
    }
   ],
   "source": [
    "# 查看最优参数\n",
    "cv_model.bestModel.extractParamMap()"
   ]
  },
  {
   "cell_type": "markdown",
   "metadata": {},
   "source": [
    "由以上可知，最优参数为\n",
    "+ impurity: gini\n",
    "+ maxBins: 16\n",
    "+ maxDepth: 3\n",
    "+ minInfoGain: 0.03\n",
    "+ minInstancesPerNode: 5"
   ]
  },
  {
   "cell_type": "code",
   "execution_count": 166,
   "metadata": {},
   "outputs": [
    {
     "name": "stdout",
     "output_type": "stream",
     "text": [
      "test data F1 score: 0.5865\n"
     ]
    }
   ],
   "source": [
    "# 查看调优后的模型在测试集上的f1 score\n",
    "test_predict = cv_model.transform(test_data)\n",
    "f1 = evaluator_f1.evaluate(test_predict)\n",
    "print('test data F1 score: {:.4f}'.format(f1))"
   ]
  },
  {
   "cell_type": "markdown",
   "metadata": {},
   "source": [
    "## 结论\n",
    "　　本文根据sparkify的子集，研究了流失用户的特征，并根据此特征建立了决策树模型。调优后的模型在测试集的f1 score为0.5865。  \n",
    "　　首先进行了数据清理，丢弃缺失数据行，并转换了日期格式；然后数据可视化探索，对比会员用户和流失用户的行为差异。一个值得注意的地方是，流失用户更加活跃，无论是从注册以来活跃天数的比例，还是最近两周听歌的数量、最近两周活跃的天数，都比现有会员用户高。可能的原因是活跃度高的用户对sparkify的用户体验要求更高。因为经常使用，一些设计瑕疵会严重影响用户体验，导致用户流失。这点需要在更大的数据集上验证。  \n",
    "　　调优后的决策树模型虽然有了提升，但实际上比天真预测器还要差些。原因是数据集太小了，只是完整数据集的1.8%，测试集数据量就更小，只有26个用户。预测数量上增加一个或者减少一个，会极大的影响评估指标。所以下一步改进的方向是在更大的数据集训练和调优模型。"
   ]
  }
 ],
 "metadata": {
  "kernelspec": {
   "display_name": "Python 3",
   "language": "python",
   "name": "python3"
  },
  "language_info": {
   "codemirror_mode": {
    "name": "ipython",
    "version": 3
   },
   "file_extension": ".py",
   "mimetype": "text/x-python",
   "name": "python",
   "nbconvert_exporter": "python",
   "pygments_lexer": "ipython3",
   "version": "3.6.3"
  },
  "name": "spark",
  "notebookId": 2190466859606166
 },
 "nbformat": 4,
 "nbformat_minor": 1
}
